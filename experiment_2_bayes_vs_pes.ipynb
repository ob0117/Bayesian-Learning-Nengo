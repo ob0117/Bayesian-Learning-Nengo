{
 "cells": [
  {
   "cell_type": "markdown",
   "metadata": {},
   "source": [
    "# Experiment 2: Bayesian vs. PES Learning Rules\n",
    "\n",
    "Basic experiment to observe any noteable differences between the Bayesian rule, which targets weights, and the PES rule, which targets decoders.\n"
   ]
  },
  {
   "cell_type": "code",
   "execution_count": null,
   "metadata": {},
   "outputs": [],
   "source": [
    "import nengo\n",
    "from nengo.processes import WhiteSignal\n",
    "import numpy as np\n",
    "import matplotlib.pyplot as plt\n",
    "from learning_rules import Bayesian"
   ]
  },
  {
   "cell_type": "markdown",
   "metadata": {},
   "source": [
    "### Population set-up\n"
   ]
  },
  {
   "cell_type": "code",
   "execution_count": null,
   "metadata": {},
   "outputs": [],
   "source": [
    "# generic function, takes in learning rates and priors for pes and bayesian rule\n",
    "# also takes in a function between two neuron populations\n",
    "# automatically set is the sizes of the neuron populations & some other params\n",
    "# sets up ensembles\n",
    "# two connections between A and B: one Bayesian with weights, one PES for decoders\n",
    "# error signals for each (for PES it's backwards from bayesian)\n",
    "# plot learned vs. desired for each (like in pes example), plots labeled with parameters\n",
    "# plot rmse over time for each\n",
    "\n",
    "def pes_vs_bayesian():\n",
    "    return 0"
   ]
  }
 ],
 "metadata": {
  "kernelspec": {
   "display_name": "Python 3.10 (pipenv)",
   "language": "python",
   "name": "pipenv_3_10"
  },
  "language_info": {
   "name": "python",
   "version": "3.10.15"
  }
 },
 "nbformat": 4,
 "nbformat_minor": 2
}
