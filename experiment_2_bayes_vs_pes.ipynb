{
 "cells": [],
 "metadata": {
  "kernelspec": {
   "display_name": "Python 3.10 (pipenv)",
   "language": "python",
   "name": "pipenv_3_10"
  },
  "language_info": {
   "name": "python",
   "version": "3.10.15"
  }
 },
 "nbformat": 4,
 "nbformat_minor": 2
}
